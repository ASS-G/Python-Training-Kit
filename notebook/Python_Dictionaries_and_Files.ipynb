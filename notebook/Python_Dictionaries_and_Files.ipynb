{
 "cells": [
  {
   "cell_type": "markdown",
   "metadata": {
    "colab_type": "text",
    "id": "LhzN0PDOICfy"
   },
   "source": [
    "# Dict\n",
    "\n",
    "Python's efficient key/value hash table structure is called a \"dict\". The contents of a dict can be written as a series of key:value pairs within braces { }, e.g. dict = {key1:value1, key2:value2, ... }. The \"empty dict\" is just an empty pair of curly braces {}.\n",
    "\n",
    "![Dict Hash Table](https://developers.google.com/edu/python/images/dict.png)"
   ]
  },
  {
   "cell_type": "code",
   "execution_count": 4,
   "metadata": {
    "colab": {
     "base_uri": "https://localhost:8080/",
     "height": 34
    },
    "colab_type": "code",
    "id": "ov-tYFLgGliw",
    "outputId": "a9106c91-1b00-4520-944c-d70e3616e34f"
   },
   "outputs": [
    {
     "data": {
      "text/plain": [
       "{'a': 'alpha', 'g': 'gamma', 'o': 'omega'}"
      ]
     },
     "execution_count": 4,
     "metadata": {
      "tags": []
     },
     "output_type": "execute_result"
    }
   ],
   "source": [
    "## Can build up a dict by starting with the the empty dict {}\n",
    "## and storing key/value pairs into the dict like this:\n",
    "## dict[key] = value-for-that-key\n",
    "dict = {}\n",
    "dict['a'] = 'alpha'\n",
    "dict['g'] = 'gamma'\n",
    "dict['o'] = 'omega'\n",
    "\n",
    "dict\n"
   ]
  },
  {
   "cell_type": "markdown",
   "metadata": {
    "colab_type": "text",
    "id": "ONxhNUCVIony"
   },
   "source": [
    "Elements of dict can be accessed by indexing based ons key"
   ]
  },
  {
   "cell_type": "code",
   "execution_count": 6,
   "metadata": {
    "colab": {
     "base_uri": "https://localhost:8080/",
     "height": 34
    },
    "colab_type": "code",
    "id": "7OUN6QFlImFN",
    "outputId": "f8d27e0a-aed2-41a1-e6a0-157cc8297f7c"
   },
   "outputs": [
    {
     "data": {
      "text/plain": [
       "'alpha'"
      ]
     },
     "execution_count": 6,
     "metadata": {
      "tags": []
     },
     "output_type": "execute_result"
    }
   ],
   "source": [
    "dict['a']"
   ]
  },
  {
   "cell_type": "code",
   "execution_count": 7,
   "metadata": {
    "colab": {
     "base_uri": "https://localhost:8080/",
     "height": 34
    },
    "colab_type": "code",
    "id": "Y-cRTA5iIaWH",
    "outputId": "4ff5ce33-f02f-4c6b-bbd3-07bf9ffe49c9"
   },
   "outputs": [
    {
     "data": {
      "text/plain": [
       "{'a': 'theta', 'g': 'gamma', 'o': 'omega'}"
      ]
     },
     "execution_count": 7,
     "metadata": {
      "tags": []
     },
     "output_type": "execute_result"
    }
   ],
   "source": [
    "dict['a'] = 'theta'\n",
    "dict"
   ]
  },
  {
   "cell_type": "markdown",
   "metadata": {
    "colab_type": "text",
    "id": "1d-az21wJB3K"
   },
   "source": [
    "Throws `KeyError` when you try access an element that is not present in the dict"
   ]
  },
  {
   "cell_type": "code",
   "execution_count": 8,
   "metadata": {
    "colab": {
     "base_uri": "https://localhost:8080/",
     "height": 167
    },
    "colab_type": "code",
    "id": "eZJhMTUjITmR",
    "outputId": "8c7bafc1-0bc4-44ef-ce21-d808c3c544a4"
   },
   "outputs": [
    {
     "ename": "KeyError",
     "evalue": "ignored",
     "output_type": "error",
     "traceback": [
      "\u001b[0;31m---------------------------------------------------------------------------\u001b[0m",
      "\u001b[0;31mKeyError\u001b[0m                                  Traceback (most recent call last)",
      "\u001b[0;32m<ipython-input-8-b4064e6c8f62>\u001b[0m in \u001b[0;36m<module>\u001b[0;34m()\u001b[0m\n\u001b[0;32m----> 1\u001b[0;31m \u001b[0mdict\u001b[0m\u001b[0;34m[\u001b[0m\u001b[0;34m'hello'\u001b[0m\u001b[0;34m]\u001b[0m\u001b[0;34m\u001b[0m\u001b[0m\n\u001b[0m",
      "\u001b[0;31mKeyError\u001b[0m: 'hello'"
     ]
    }
   ],
   "source": [
    "dict['hello']"
   ]
  },
  {
   "cell_type": "markdown",
   "metadata": {
    "colab_type": "text",
    "id": "-IhgMzLnLa2V"
   },
   "source": [
    "You can use the `dict.get()` method, if you want to get a default value when the key you look for is not present in the dict instead of getting a `KeyError`"
   ]
  },
  {
   "cell_type": "code",
   "execution_count": 19,
   "metadata": {
    "colab": {
     "base_uri": "https://localhost:8080/",
     "height": 34
    },
    "colab_type": "code",
    "id": "Ma18vq-SLsVm",
    "outputId": "fdb26ec1-6b81-4358-ded8-a966c0c96e94"
   },
   "outputs": [
    {
     "data": {
      "text/plain": [
       "'gamma'"
      ]
     },
     "execution_count": 19,
     "metadata": {
      "tags": []
     },
     "output_type": "execute_result"
    }
   ],
   "source": [
    "dict.get('g','default_value')"
   ]
  },
  {
   "cell_type": "code",
   "execution_count": 17,
   "metadata": {
    "colab": {
     "base_uri": "https://localhost:8080/",
     "height": 34
    },
    "colab_type": "code",
    "id": "-hSPTMivLnSQ",
    "outputId": "4251624f-531b-4eae-d305-22979862c660"
   },
   "outputs": [
    {
     "data": {
      "text/plain": [
       "'default_value'"
      ]
     },
     "execution_count": 17,
     "metadata": {
      "tags": []
     },
     "output_type": "execute_result"
    }
   ],
   "source": [
    "dict.get('x','default_value')"
   ]
  },
  {
   "cell_type": "markdown",
   "metadata": {
    "colab_type": "text",
    "id": "XgvUTP7MJKZh"
   },
   "source": [
    "You can loop through the keys in the dict using for loop"
   ]
  },
  {
   "cell_type": "code",
   "execution_count": 9,
   "metadata": {
    "colab": {
     "base_uri": "https://localhost:8080/",
     "height": 69
    },
    "colab_type": "code",
    "id": "FmzWudKDJI_Y",
    "outputId": "638e7799-73ea-4f23-c5c8-0b13eb3f287e"
   },
   "outputs": [
    {
     "name": "stdout",
     "output_type": "stream",
     "text": [
      "theta\n",
      "gamma\n",
      "omega\n"
     ]
    }
   ],
   "source": [
    "for k in dict:\n",
    "  print(dict[k])"
   ]
  },
  {
   "cell_type": "markdown",
   "metadata": {
    "colab_type": "text",
    "id": "2eDd9kOxJW7D"
   },
   "source": [
    "You can use the `in` clause to check if dict contains a specific key"
   ]
  },
  {
   "cell_type": "code",
   "execution_count": 13,
   "metadata": {
    "colab": {
     "base_uri": "https://localhost:8080/",
     "height": 34
    },
    "colab_type": "code",
    "id": "Lf1a_N7nJR21",
    "outputId": "06c94b1c-7308-4fbd-e07c-fef7cdd8479f"
   },
   "outputs": [
    {
     "data": {
      "text/plain": [
       "(True, False)"
      ]
     },
     "execution_count": 13,
     "metadata": {
      "tags": []
     },
     "output_type": "execute_result"
    }
   ],
   "source": [
    "is_a_present = 'a' in dict\n",
    "is_x_present = 'x' in dict\n",
    "is_a_present,is_x_present"
   ]
  },
  {
   "cell_type": "markdown",
   "metadata": {
    "colab_type": "text",
    "id": "H_EmhtwxJ-wr"
   },
   "source": [
    "You can use the keys() method to get the keys in a dict"
   ]
  },
  {
   "cell_type": "code",
   "execution_count": 14,
   "metadata": {
    "colab": {
     "base_uri": "https://localhost:8080/",
     "height": 34
    },
    "colab_type": "code",
    "id": "qHQCGSnYJmCH",
    "outputId": "d99a8ad8-12b3-4caa-b4c3-de90c6409bfb"
   },
   "outputs": [
    {
     "data": {
      "text/plain": [
       "dict_keys(['a', 'g', 'o'])"
      ]
     },
     "execution_count": 14,
     "metadata": {
      "tags": []
     },
     "output_type": "execute_result"
    }
   ],
   "source": [
    "dict.keys()"
   ]
  },
  {
   "cell_type": "markdown",
   "metadata": {
    "colab_type": "text",
    "id": "nkeiShERKGiO"
   },
   "source": [
    "You can use the items() method to get a list of key,value tuples"
   ]
  },
  {
   "cell_type": "code",
   "execution_count": 15,
   "metadata": {
    "colab": {
     "base_uri": "https://localhost:8080/",
     "height": 34
    },
    "colab_type": "code",
    "id": "muMH_lmRJr9H",
    "outputId": "321fa561-0846-4bb1-a7f5-c7ba90d9deef"
   },
   "outputs": [
    {
     "data": {
      "text/plain": [
       "dict_items([('a', 'theta'), ('g', 'gamma'), ('o', 'omega')])"
      ]
     },
     "execution_count": 15,
     "metadata": {
      "tags": []
     },
     "output_type": "execute_result"
    }
   ],
   "source": [
    "dict.items()"
   ]
  },
  {
   "cell_type": "markdown",
   "metadata": {
    "colab_type": "text",
    "id": "p-ctMD7gKsgT"
   },
   "source": [
    "You can use the del command to delete a key from the dict"
   ]
  },
  {
   "cell_type": "code",
   "execution_count": 16,
   "metadata": {
    "colab": {
     "base_uri": "https://localhost:8080/",
     "height": 34
    },
    "colab_type": "code",
    "id": "5xosEm9gKL5b",
    "outputId": "6139f048-c42f-4d2f-9fb0-1ca30fc99e81"
   },
   "outputs": [
    {
     "data": {
      "text/plain": [
       "{'g': 'gamma', 'o': 'omega'}"
      ]
     },
     "execution_count": 16,
     "metadata": {
      "tags": []
     },
     "output_type": "execute_result"
    }
   ],
   "source": [
    "del dict['a']\n",
    "dict"
   ]
  },
  {
   "cell_type": "markdown",
   "metadata": {
    "colab_type": "text",
    "id": "dmOGN2FFxDk1"
   },
   "source": [
    "# Files\n",
    "\n",
    "* The open() function opens and returns a file handle that can be used to read or write a file in the usual way. \n",
    "* The code f = open('name', 'r') opens the file into the variable f, ready for reading operations, and use f.close() when finished.\n",
    "* Instead of 'r', use 'w' for writing, and 'a' for append. \n",
    "* The standard for-loop works for text files, iterating through the lines of the file. \n",
    "* The for-loop technique is a simple and efficient way to look at all the lines in a text file:"
   ]
  },
  {
   "cell_type": "code",
   "execution_count": 2,
   "metadata": {
    "colab": {
     "base_uri": "https://localhost:8080/",
     "height": 173
    },
    "colab_type": "code",
    "id": "RTPgylG3K3EP",
    "outputId": "1ff4dab8-5a5d-4447-e362-fa5ba5a25413"
   },
   "outputs": [
    {
     "data": {
      "text/plain": [
       "['line_1',\n",
       " 'line_2',\n",
       " 'line_3',\n",
       " 'line_4',\n",
       " 'line_5',\n",
       " 'line_6',\n",
       " 'line_7',\n",
       " 'line_8',\n",
       " 'line_9']"
      ]
     },
     "execution_count": 2,
     "metadata": {
      "tags": []
     },
     "output_type": "execute_result"
    }
   ],
   "source": [
    "x = ['line_{}'.format(i) for i in range(1,10)] # we are using list comprehension in python here, it is a syntactic sugar for for \n",
    "x"
   ]
  },
  {
   "cell_type": "code",
   "execution_count": 0,
   "metadata": {
    "colab": {},
    "colab_type": "code",
    "id": "Au0hMd7TxyKM"
   },
   "outputs": [],
   "source": [
    "text_file = open('sample_text_file','w')\n",
    "for item in x:\n",
    "  text_file.write('{}{}'.format(item,'\\n'))\n",
    "text_file.close() # this line is important. You should close the file to ensure all the written content gets saved"
   ]
  },
  {
   "cell_type": "markdown",
   "metadata": {
    "colab_type": "text",
    "id": "4ylpvLfOyTkH"
   },
   "source": [
    "Let's check the contents of sample text file.\n",
    "\n",
    "You can use `! <command>` in ipython to execute an OS command"
   ]
  },
  {
   "cell_type": "code",
   "execution_count": 6,
   "metadata": {
    "colab": {
     "base_uri": "https://localhost:8080/",
     "height": 173
    },
    "colab_type": "code",
    "id": "7iypfzPfyMUV",
    "outputId": "9d69284c-2bfc-4a1c-acf8-aa0a7d94cac5"
   },
   "outputs": [
    {
     "name": "stdout",
     "output_type": "stream",
     "text": [
      "line_1\n",
      "line_2\n",
      "line_3\n",
      "line_4\n",
      "line_5\n",
      "line_6\n",
      "line_7\n",
      "line_8\n",
      "line_9\n"
     ]
    }
   ],
   "source": [
    "!cat sample_text_file"
   ]
  },
  {
   "cell_type": "markdown",
   "metadata": {
    "colab_type": "text",
    "id": "6kDxykJQyfkq"
   },
   "source": [
    "Now, let's read the stored file and check the number of lines in it"
   ]
  },
  {
   "cell_type": "code",
   "execution_count": 0,
   "metadata": {
    "colab": {},
    "colab_type": "code",
    "id": "uvDwASO3yPWm"
   },
   "outputs": [],
   "source": [
    "saved_file = open('sample_text_file','r')"
   ]
  },
  {
   "cell_type": "markdown",
   "metadata": {
    "colab_type": "text",
    "id": "qd4q26UgzBEl"
   },
   "source": [
    "you can loop through the lines of the file by using `for loop`"
   ]
  },
  {
   "cell_type": "code",
   "execution_count": 8,
   "metadata": {
    "colab": {
     "base_uri": "https://localhost:8080/",
     "height": 330
    },
    "colab_type": "code",
    "id": "LbSo1M5nyoes",
    "outputId": "dc648460-3e98-4922-933e-2d70086563b5"
   },
   "outputs": [
    {
     "name": "stdout",
     "output_type": "stream",
     "text": [
      "line_1\n",
      "\n",
      "line_2\n",
      "\n",
      "line_3\n",
      "\n",
      "line_4\n",
      "\n",
      "line_5\n",
      "\n",
      "line_6\n",
      "\n",
      "line_7\n",
      "\n",
      "line_8\n",
      "\n",
      "line_9\n",
      "\n"
     ]
    }
   ],
   "source": [
    "for line in saved_file:\n",
    "  print(line)\n"
   ]
  },
  {
   "cell_type": "code",
   "execution_count": 0,
   "metadata": {
    "colab": {},
    "colab_type": "code",
    "id": "piR85JjKzKYR"
   },
   "outputs": [],
   "source": []
  }
 ],
 "metadata": {
  "colab": {
   "collapsed_sections": [],
   "name": "Python - Dictionaries and Files",
   "provenance": [],
   "version": "0.3.2"
  },
  "kernelspec": {
   "display_name": "Python 3",
   "language": "python",
   "name": "python3"
  },
  "language_info": {
   "codemirror_mode": {
    "name": "ipython",
    "version": 3
   },
   "file_extension": ".py",
   "mimetype": "text/x-python",
   "name": "python",
   "nbconvert_exporter": "python",
   "pygments_lexer": "ipython3",
   "version": "3.7.4"
  }
 },
 "nbformat": 4,
 "nbformat_minor": 1
}
