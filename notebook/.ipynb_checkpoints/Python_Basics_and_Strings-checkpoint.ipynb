{
 "cells": [
  {
   "cell_type": "markdown",
   "metadata": {
    "colab_type": "text",
    "id": "m4xu4gt4gIcA"
   },
   "source": [
    "## Introduction\n",
    "\n",
    "* Python is a dynamic, interpreted (bytecode-compiled) language. \n",
    "* There are no type declarations of variables, parameters, functions, or methods in source code"
   ]
  },
  {
   "cell_type": "code",
   "execution_count": 2,
   "metadata": {
    "colab": {
     "base_uri": "https://localhost:8080/",
     "height": 34
    },
    "colab_type": "code",
    "id": "1K-rPXhGfyvX",
    "outputId": "69f48af8-8a3d-4232-fa9c-51b1564bdba0"
   },
   "outputs": [
    {
     "name": "stdout",
     "output_type": "stream",
     "text": [
      "12\n",
      "hello\n",
      "3.14\n"
     ]
    }
   ],
   "source": [
    "a_number = 12\n",
    "a_string = 'hello'\n",
    "a_pi = 3.14\n",
    "# shows how to print a string message template\n",
    "print(a_number,a_string,a_pi,sep=\"\\n\") #prints variables separated by a new line"
   ]
  },
  {
   "cell_type": "markdown",
   "metadata": {
    "colab_type": "text",
    "id": "Ct8rOXa5hULj"
   },
   "source": [
    "Let's try to mix types and see what happens"
   ]
  },
  {
   "cell_type": "code",
   "execution_count": 0,
   "metadata": {
    "colab": {
     "base_uri": "https://localhost:8080/",
     "height": 167
    },
    "colab_type": "code",
    "id": "UE7oZRcKgLQb",
    "outputId": "57447ef1-7fb1-4b02-e88b-450328b73015"
   },
   "outputs": [
    {
     "ename": "TypeError",
     "evalue": "ignored",
     "output_type": "error",
     "traceback": [
      "\u001b[0;31m---------------------------------------------------------------------------\u001b[0m",
      "\u001b[0;31mTypeError\u001b[0m                                 Traceback (most recent call last)",
      "\u001b[0;32m<ipython-input-3-86d280b661f2>\u001b[0m in \u001b[0;36m<module>\u001b[0;34m()\u001b[0m\n\u001b[0;32m----> 1\u001b[0;31m \u001b[0ma_number\u001b[0m \u001b[0;34m+\u001b[0m \u001b[0ma_string\u001b[0m\u001b[0;34m\u001b[0m\u001b[0m\n\u001b[0m",
      "\u001b[0;31mTypeError\u001b[0m: unsupported operand type(s) for +: 'int' and 'str'"
     ]
    }
   ],
   "source": [
    "a_number + a_string"
   ]
  },
  {
   "cell_type": "markdown",
   "metadata": {
    "colab_type": "text",
    "id": "sChVqABUhlcB"
   },
   "source": [
    "Since we do not declare types, runtime checks for types and does not allow invalid operations. TypeError is a type of expection, we will comeback to it when we learn about exception handling\n",
    "\n",
    "## Python source code\n",
    "\n",
    "* Python source files use the \".py\" extension and are called \"modules.\" \n",
    "* With a Python module hello.py, the easiest way to run it is with the shell command `\"python hello.py Alice\"` which calls the Python interpreter to execute the code in hello.py, passing it the command line argument \"Alice\"\n",
    "* Here we will use an Ipython notebook to learn the basics of python. Ipython notebooks provide an easy way to play with the python interpreter. Later we will create  python files in exercises.\n",
    "\n"
   ]
  },
  {
   "cell_type": "markdown",
   "metadata": {
    "colab_type": "text",
    "id": "MM-Hmfc4i-Ie"
   },
   "source": [
    "## Imports\n",
    "\n",
    "* To import a python module we use the `import` statement\n",
    "*  We will import the `os` builtin module and print the current working directory\n",
    "* [Python documentation](https://docs.python.org/3/) provides the language reference \n",
    "* Reference to [OS module](https://docs.python.org/3/library/os.html?highlight=os#module-os)"
   ]
  },
  {
   "cell_type": "code",
   "execution_count": 0,
   "metadata": {
    "colab": {
     "base_uri": "https://localhost:8080/",
     "height": 34
    },
    "colab_type": "code",
    "id": "5QWCkJvEhebt",
    "outputId": "deafd41e-8107-491b-ce2f-802d14713cc4"
   },
   "outputs": [
    {
     "name": "stdout",
     "output_type": "stream",
     "text": [
      "/content\n"
     ]
    }
   ],
   "source": [
    "import os\n",
    "curr_working_dir = os.getcwd()\n",
    "print(curr_working_dir)"
   ]
  },
  {
   "cell_type": "markdown",
   "metadata": {
    "colab_type": "text",
    "id": "n4p5eXaOr207"
   },
   "source": [
    "* `from` keyword can be used to import specific item within a module\n",
    "* item could be a variable, sub-module or a function"
   ]
  },
  {
   "cell_type": "code",
   "execution_count": 0,
   "metadata": {
    "colab": {},
    "colab_type": "code",
    "collapsed": true,
    "id": "k9fZoDPnj9xJ"
   },
   "outputs": [],
   "source": [
    "from sys import version"
   ]
  },
  {
   "cell_type": "code",
   "execution_count": 0,
   "metadata": {
    "colab": {
     "base_uri": "https://localhost:8080/",
     "height": 52
    },
    "colab_type": "code",
    "id": "7eXJ7yfisCpo",
    "outputId": "2d27828a-4b83-47d9-d961-77d7dc6bdaef"
   },
   "outputs": [
    {
     "name": "stdout",
     "output_type": "stream",
     "text": [
      "3.6.3 (default, Oct  3 2017, 21:45:48) \n",
      "[GCC 7.2.0]\n"
     ]
    }
   ],
   "source": [
    "print(version)"
   ]
  },
  {
   "cell_type": "markdown",
   "metadata": {},
   "source": [
    "#### We're using python3 for learning python.You don't have to worry about the os and sys right now"
   ]
  },
  {
   "cell_type": "markdown",
   "metadata": {
    "colab_type": "text",
    "id": "WHBkEj6cskrj"
   },
   "source": [
    "## User defined functions\n",
    "\n",
    "Let's write a simple function to greet the user"
   ]
  },
  {
   "cell_type": "code",
   "execution_count": 4,
   "metadata": {
    "colab": {},
    "colab_type": "code",
    "id": "tkECQoz3sDvJ"
   },
   "outputs": [],
   "source": [
    "def greet_user(user):\n",
    "  print(\"Hello {}. Welcome to the Python world !!!\".format(user))"
   ]
  },
  {
   "cell_type": "code",
   "execution_count": 0,
   "metadata": {
    "colab": {
     "base_uri": "https://localhost:8080/",
     "height": 34
    },
    "colab_type": "code",
    "id": "bjuDt-KztIW1",
    "outputId": "3a2b79e4-425f-4b50-83f8-6c8f20e8531c"
   },
   "outputs": [
    {
     "name": "stdout",
     "output_type": "stream",
     "text": [
      "Hello John Doe. Welcome to the Python world !!!\n"
     ]
    }
   ],
   "source": [
    "greet_user('John Doe')"
   ]
  },
  {
   "cell_type": "markdown",
   "metadata": {},
   "source": [
    "#### greet_user function accepts a user name as input and it prints a message.\n",
    "#### format function used inside print function,is a predefined function used to replace {} with a data.\n",
    "#### thats' why you see John Doe in the place of {} in the output string"
   ]
  },
  {
   "cell_type": "markdown",
   "metadata": {
    "colab_type": "text",
    "id": "Q8MFDh7ktaJp"
   },
   "source": [
    "## Indentation\n",
    "\n",
    "* Whitespace indentation of a piece of code affects its meaning. \n",
    "* A logical block of statements such as the ones that make up a function should all have the same indentation.\n",
    "* Set your editor to insert spaces instead of TABs for Python code.\n",
    "* A common question beginners ask is, \"How many spaces should I indent?\" According to the official Python style guide (PEP 8), you should indent with 4 spaces. (Fun fact: Google's internal style guideline dictates indenting by 2 spaces!)"
   ]
  },
  {
   "cell_type": "markdown",
   "metadata": {
    "colab_type": "text",
    "id": "IggqLbmPuCCj"
   },
   "source": [
    "## Python Strings\n",
    "\n",
    "* immutable. they cannot be changed after they are created (Java strings also use this immutable style). Since strings can't be changed, we construct *new* strings as we go to represent computed values\n",
    "* The len(string) function returns the length of a string.\n",
    "* Characters in a string can be accessed using the standard [ ] syntax, and like Java and C++, Python uses zero-based indexing, so if s is 'hello' s[1] is 'e'."
   ]
  },
  {
   "cell_type": "code",
   "execution_count": 5,
   "metadata": {
    "colab": {
     "base_uri": "https://localhost:8080/",
     "height": 69
    },
    "colab_type": "code",
    "id": "ob7mf3nDtKzi",
    "outputId": "66232b56-7364-4704-b964-ef61292e7a31"
   },
   "outputs": [
    {
     "name": "stdout",
     "output_type": "stream",
     "text": [
      "i\n",
      "2\n",
      "hi there\n"
     ]
    }
   ],
   "source": [
    "  s = 'hi'\n",
    "  print(s[1])         ## i\n",
    "  print(len(s))        ## finds length of anything that is countable.Here it finds the length of the string\n",
    "  print(s + ' there')  ## hi there"
   ]
  },
  {
   "cell_type": "code",
   "execution_count": 6,
   "metadata": {
    "colab": {
     "base_uri": "https://localhost:8080/",
     "height": 34
    },
    "colab_type": "code",
    "id": "ly3zXz1punzA",
    "outputId": "5ee7c270-1f22-4a32-e078-4e581896930c"
   },
   "outputs": [
    {
     "data": {
      "text/plain": [
       "'The value of pi is 3.14'"
      ]
     },
     "execution_count": 6,
     "metadata": {},
     "output_type": "execute_result"
    }
   ],
   "source": [
    "pi = 3.14\n",
    "#text = 'The value of pi is ' + pi      ## you cannot concatenate sting and float\n",
    "text = 'The value of pi is '  + str(pi)  ## you can do it by converting float to string by using str()\n",
    "text"
   ]
  },
  {
   "cell_type": "markdown",
   "metadata": {
    "colab_type": "text",
    "id": "nkjfqYm4vhru"
   },
   "source": [
    "## String methods\n",
    "https://docs.python.org/3/library/stdtypes.html#string-methods"
   ]
  },
  {
   "cell_type": "code",
   "execution_count": 0,
   "metadata": {
    "colab": {
     "base_uri": "https://localhost:8080/",
     "height": 34
    },
    "colab_type": "code",
    "id": "lfNNM885vagl",
    "outputId": "4796a354-46b4-4a1c-9349-7f444fefb777"
   },
   "outputs": [
    {
     "data": {
      "text/plain": [
       "'the value of pi is 3.14'"
      ]
     },
     "execution_count": 11,
     "metadata": {
      "tags": []
     },
     "output_type": "execute_result"
    }
   ],
   "source": [
    "text.lower()"
   ]
  },
  {
   "cell_type": "code",
   "execution_count": 0,
   "metadata": {
    "colab": {
     "base_uri": "https://localhost:8080/",
     "height": 34
    },
    "colab_type": "code",
    "id": "2VMR0BAhveTH",
    "outputId": "265af1d2-ec76-43e0-c1df-edcba36b6a40"
   },
   "outputs": [
    {
     "data": {
      "text/plain": [
       "'THE VALUE OF PI IS 3.14'"
      ]
     },
     "execution_count": 12,
     "metadata": {
      "tags": []
     },
     "output_type": "execute_result"
    }
   ],
   "source": [
    "text.upper()"
   ]
  },
  {
   "cell_type": "code",
   "execution_count": 0,
   "metadata": {
    "colab": {
     "base_uri": "https://localhost:8080/",
     "height": 34
    },
    "colab_type": "code",
    "id": "A4R2GTDHu6u7",
    "outputId": "4dcded1d-0027-4a06-c8b5-ecb76102a0ee"
   },
   "outputs": [
    {
     "data": {
      "text/plain": [
       "False"
      ]
     },
     "execution_count": 13,
     "metadata": {
      "tags": []
     },
     "output_type": "execute_result"
    }
   ],
   "source": [
    "text.isalpha()"
   ]
  },
  {
   "cell_type": "code",
   "execution_count": 0,
   "metadata": {
    "colab": {
     "base_uri": "https://localhost:8080/",
     "height": 34
    },
    "colab_type": "code",
    "id": "djfgeLpSu9nn",
    "outputId": "1f7e848a-7702-40ee-b0e9-2468dcd0919f"
   },
   "outputs": [
    {
     "data": {
      "text/plain": [
       "False"
      ]
     },
     "execution_count": 14,
     "metadata": {
      "tags": []
     },
     "output_type": "execute_result"
    }
   ],
   "source": [
    "text.isnumeric()"
   ]
  },
  {
   "cell_type": "code",
   "execution_count": 0,
   "metadata": {
    "colab": {
     "base_uri": "https://localhost:8080/",
     "height": 34
    },
    "colab_type": "code",
    "id": "M4S1IQ0PvAiw",
    "outputId": "60ca5a08-4eb1-4a0a-eed7-18ea3ef88e5d"
   },
   "outputs": [
    {
     "data": {
      "text/plain": [
       "True"
      ]
     },
     "execution_count": 15,
     "metadata": {
      "tags": []
     },
     "output_type": "execute_result"
    }
   ],
   "source": [
    "text.startswith('T')"
   ]
  },
  {
   "cell_type": "code",
   "execution_count": 0,
   "metadata": {
    "colab": {
     "base_uri": "https://localhost:8080/",
     "height": 34
    },
    "colab_type": "code",
    "id": "ApEW-cIUvC7N",
    "outputId": "3e85cfd6-a820-41eb-d0e2-7a2ed4b52342"
   },
   "outputs": [
    {
     "data": {
      "text/plain": [
       "True"
      ]
     },
     "execution_count": 16,
     "metadata": {
      "tags": []
     },
     "output_type": "execute_result"
    }
   ],
   "source": [
    "'pi' in text # to check if text contains a substring"
   ]
  },
  {
   "cell_type": "code",
   "execution_count": 0,
   "metadata": {
    "colab": {
     "base_uri": "https://localhost:8080/",
     "height": 34
    },
    "colab_type": "code",
    "id": "0zxIHZf_wLqD",
    "outputId": "64d8f101-ef13-452d-9e4b-c53e63ba5c90"
   },
   "outputs": [
    {
     "data": {
      "text/plain": [
       "-1"
      ]
     },
     "execution_count": 19,
     "metadata": {
      "tags": []
     },
     "output_type": "execute_result"
    }
   ],
   "source": [
    "text.find('pizza')"
   ]
  },
  {
   "cell_type": "code",
   "execution_count": 0,
   "metadata": {
    "colab": {
     "base_uri": "https://localhost:8080/",
     "height": 34
    },
    "colab_type": "code",
    "id": "WDwwH-hnRpgk",
    "outputId": "05cab35f-bf8d-49ea-c9b2-1cb5e77c1b7e"
   },
   "outputs": [
    {
     "data": {
      "text/plain": [
       "['abc', 'ced', 'def', 'hij']"
      ]
     },
     "execution_count": 20,
     "metadata": {
      "tags": []
     },
     "output_type": "execute_result"
    }
   ],
   "source": [
    "csv = \"abc,ced,def,hij\"\n",
    "csv.split(\",\")"
   ]
  },
  {
   "cell_type": "markdown",
   "metadata": {
    "colab_type": "text",
    "id": "_uFjp64ivveU"
   },
   "source": [
    "##  IF Statment"
   ]
  },
  {
   "cell_type": "code",
   "execution_count": 0,
   "metadata": {
    "colab": {
     "base_uri": "https://localhost:8080/",
     "height": 52
    },
    "colab_type": "code",
    "id": "BQHa4yHDvHDX",
    "outputId": "93d25507-4593-435e-d1bf-c5f15e226b04"
   },
   "outputs": [
    {
     "name": "stdout",
     "output_type": "stream",
     "text": [
      "Text contains the substring 'pi'\n",
      "13\n"
     ]
    }
   ],
   "source": [
    "if 'pi' in text.lower():\n",
    "  print('Text contains the substring \\'pi\\'')\n",
    "  pi_index = text.find('pi')\n",
    "  print(pi_index)"
   ]
  },
  {
   "cell_type": "code",
   "execution_count": 0,
   "metadata": {
    "colab": {
     "base_uri": "https://localhost:8080/",
     "height": 34
    },
    "colab_type": "code",
    "id": "UippAYsT5A7D",
    "outputId": "9a5f4522-8f2e-43c3-b75e-d88e5bdae0ca"
   },
   "outputs": [
    {
     "name": "stdout",
     "output_type": "stream",
     "text": [
      "Text contains the substring 'pi'\n"
     ]
    }
   ],
   "source": [
    "if 4 < 3:\n",
    "  pass # pass is a command to do nothing\n",
    "elif 'pi' in text.lower():\n",
    "  print('Text contains the substring \\'pi\\'')\n",
    "else:\n",
    "  pass\n",
    "  "
   ]
  },
  {
   "cell_type": "markdown",
   "metadata": {},
   "source": [
    "## You can learn more from:"
   ]
  },
  {
   "cell_type": "markdown",
   "metadata": {},
   "source": [
    "#### `Socratica`(https://www.youtube.com/playlist?list=PLi01XoE8jYohWFPpC17Z-wWhPOSuh8Er-)"
   ]
  }
 ],
 "metadata": {
  "colab": {
   "name": "Python Basics and Strings",
   "provenance": [],
   "version": "0.3.2"
  },
  "kernelspec": {
   "display_name": "Python 3",
   "language": "python",
   "name": "python3"
  },
  "language_info": {
   "codemirror_mode": {
    "name": "ipython",
    "version": 3
   },
   "file_extension": ".py",
   "mimetype": "text/x-python",
   "name": "python",
   "nbconvert_exporter": "python",
   "pygments_lexer": "ipython3",
   "version": "3.7.4"
  }
 },
 "nbformat": 4,
 "nbformat_minor": 1
}
