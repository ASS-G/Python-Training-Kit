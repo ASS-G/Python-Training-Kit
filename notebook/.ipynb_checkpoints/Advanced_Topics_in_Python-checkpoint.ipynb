{
 "cells": [
  {
   "cell_type": "markdown",
   "metadata": {
    "colab_type": "text",
    "id": "j24a5M9CHDmm"
   },
   "source": [
    "# List Comprehensions\n",
    "In this section, we you learn about Python list comprehensions, and how to use it.\n",
    "\n",
    "1. List comprehensions provide a concise way to create lists. \n",
    "\n",
    "2. It consists of brackets containing an expression followed by a for clause, then\n",
    "zero or more for or if clauses. The expressions can be anything, meaning you can\n",
    "put in all kinds of objects in lists.\n",
    "\n",
    "3. The result will be a new list resulting from evaluating the expression in the\n",
    "context of the for and if clauses which follow it. \n",
    "\n",
    "4. The list comprehension always returns a result list. \n",
    "\n",
    "**So how is it different from `for` loops in python?**\n",
    "\n",
    "Suppose, we want to separate the letters of the word human and add the letters as items of a list. The first thing that comes in mind would be using for loop.\n",
    "\n"
   ]
  },
  {
   "cell_type": "code",
   "execution_count": 0,
   "metadata": {
    "colab": {
     "base_uri": "https://localhost:8080/",
     "height": 34
    },
    "colab_type": "code",
    "id": "96OGJMO3Hk9H",
    "outputId": "c1ceaeb4-4484-42e3-a683-c32895b07e80"
   },
   "outputs": [
    {
     "name": "stdout",
     "output_type": "stream",
     "text": [
      "['h', 'u', 'm', 'a', 'n']\n"
     ]
    }
   ],
   "source": [
    "# Example 1: Iterating through a string Using for Loop\n",
    "h_letters = []\n",
    "\n",
    "for letter in 'human':\n",
    "    h_letters.append(letter)\n",
    "\n",
    "print(h_letters) ## ['h', 'u', 'm', 'a', 'n']"
   ]
  },
  {
   "cell_type": "markdown",
   "metadata": {
    "colab_type": "text",
    "id": "Xj5fV4nrHtU7"
   },
   "source": [
    "However, Python has an easier way to solve this issue using List Comprehension. List comprehension is an elegant way to define and create lists based on existing lists.\n",
    "\n",
    "Let’s see how the above program can be written using list comprehensions.\n",
    "\n"
   ]
  },
  {
   "cell_type": "code",
   "execution_count": 0,
   "metadata": {
    "colab": {
     "base_uri": "https://localhost:8080/",
     "height": 34
    },
    "colab_type": "code",
    "id": "Kgc6p9vXHuUz",
    "outputId": "38a55412-2998-4a70-e51b-cfa46925cf88"
   },
   "outputs": [
    {
     "name": "stdout",
     "output_type": "stream",
     "text": [
      "['h', 'u', 'm', 'a', 'n']\n"
     ]
    }
   ],
   "source": [
    "# Example 2: Iterating through a string Using List Comprehension\n",
    "h_letters = [ letter for letter in 'human' ]\n",
    "print(h_letters) ## ['h', 'u', 'm', 'a', 'n']"
   ]
  },
  {
   "cell_type": "markdown",
   "metadata": {
    "colab_type": "text",
    "id": "O1-Er07vH-Ys"
   },
   "source": [
    "In the above example, a new list is assigned to variable `h_letters`, and list contains the items of the iterable string 'human'. We call `print()` function to receive the output.\n",
    "\n",
    "### Syntax of List Comprehension\n",
    "\n",
    "> `[expression for item in list]`\n",
    "\n",
    "If you noticed, `human` is a string, not a list. This is the power of list comprehension. It can identify when it receives a string or a tuple and work on it like a list.\n",
    "\n",
    "You can do that using loops. However, not every loop can be rewritten as list comprehension. But as you learn and get comfortable with list comprehensions, you will find yourself replacing more and more loops with this elegant syntax.\n",
    "\n",
    "---\n",
    "\n",
    "## Conditionals in List Comprehension\n",
    "\n",
    "List comprehensions can utilize conditional statement to modify existing list (or other tuples). We will create list that uses mathematical operators, integers, and range().\n",
    "\n"
   ]
  },
  {
   "cell_type": "code",
   "execution_count": 0,
   "metadata": {
    "colab": {},
    "colab_type": "code",
    "id": "wgPb5RdXH7du"
   },
   "outputs": [],
   "source": [
    "# Example 3: Using if with List Comprehension\n",
    "number_list = [ x for x in range(20) if x % 2 == 0]\n",
    "print(number_list) ## [0, 2, 4, 6, 8, 10, 12, 14, 16, 18]"
   ]
  },
  {
   "cell_type": "markdown",
   "metadata": {
    "colab_type": "text",
    "id": "95vLqpyMIsPM"
   },
   "source": [
    "The list ,`number_list`, will be populated by the items in range from 0-19 if the item's value is divisible by 2."
   ]
  },
  {
   "cell_type": "code",
   "execution_count": 0,
   "metadata": {
    "colab": {},
    "colab_type": "code",
    "id": "7zDP-HoWIwP3"
   },
   "outputs": [],
   "source": [
    "# Example 4: Nested IF with List Comprehension\n",
    "num_list = [y for y in range(100) if y % 2 == 0 if y % 5 == 0]\n",
    "print(num_list) ## [0, 10, 20, 30, 40, 50, 60, 70, 80, 90]"
   ]
  },
  {
   "cell_type": "markdown",
   "metadata": {
    "colab_type": "text",
    "id": "tulc5qiPI5UI"
   },
   "source": [
    "Here, list comprehension checks:\n",
    "\n",
    "1. Is `y` divisible by 2 or not?\n",
    "2. Is `y` divisible by 5 or not?\n",
    "\n",
    "If `y` satisfies both conditions, `y` is appended to `num_list`."
   ]
  },
  {
   "cell_type": "code",
   "execution_count": 0,
   "metadata": {
    "colab": {},
    "colab_type": "code",
    "id": "1Q9qVh3pJEmz"
   },
   "outputs": [],
   "source": [
    "# Example 5: if...else With List Comprehension\n",
    "obj = [\"Even\" if i%2==0 else \"Odd\" for i in range(10)]\n",
    "print(obj) ## ['Even', 'Odd', 'Even', 'Odd', 'Even', 'Odd', 'Even', 'Odd', 'Even', 'Odd']"
   ]
  },
  {
   "cell_type": "markdown",
   "metadata": {
    "colab_type": "text",
    "id": "1djjXyS2JM0b"
   },
   "source": [
    "Here, list comprehension will check the 10 numbers from 0 to 9. If `i` is divisible by 2, then `Even` is appended to the `obj` list. If not, `Odd` is appended.\n",
    "\n",
    "\n",
    "---\n",
    "\n",
    "\n",
    "## Nested Loops in List Comprehension\n",
    "\n",
    "Suppose, we need to compute transpose of a matrix which requires nested for loop. Let’s see how it is done using normal for loop first."
   ]
  },
  {
   "cell_type": "code",
   "execution_count": 0,
   "metadata": {
    "colab": {},
    "colab_type": "code",
    "id": "ehBh8SqNJYxi"
   },
   "outputs": [],
   "source": [
    "# Example 6: Transpose of Matrix using Nested Loops\n",
    "transposed = []\n",
    "matrix = [[1, 2, 3, 4], [4, 5, 6, 8]]\n",
    "\n",
    "for i in range(len(matrix[0])):\n",
    "    transposed_row = []\n",
    "\n",
    "    for row in matrix:\n",
    "        transposed_row.append(row[i])\n",
    "    transposed.append(transposed_row)\n",
    "\n",
    "print(transposed) ## [[1, 4], [2, 5], [3, 6]]"
   ]
  },
  {
   "cell_type": "markdown",
   "metadata": {
    "colab_type": "text",
    "id": "N04fYkvVJoz_"
   },
   "source": [
    "The above code use two for loops to find transpose of the matrix.\n",
    "\n",
    "We can also perform nested iteration inside a list comprehension. In this section, we will find transpose of a matrix using nested loop inside list comprehension.\n",
    "\n"
   ]
  },
  {
   "cell_type": "code",
   "execution_count": 0,
   "metadata": {
    "colab": {},
    "colab_type": "code",
    "id": "DqcfyUc9Jr8I"
   },
   "outputs": [],
   "source": [
    "# Example 7: Transpose of a Matrix using List Comprehension\n",
    "matrix = [[1, 2], [3,4], [5,6], [7,8]]\n",
    "transpose = [[row[i] for row in matrix] for i in range(2)]\n",
    "print (transpose) ## [[1, 3, 5, 7], [2, 4, 6, 8]]"
   ]
  },
  {
   "cell_type": "markdown",
   "metadata": {
    "colab_type": "text",
    "id": "ZWjqhe2cJ25_"
   },
   "source": [
    "In above program, we have a variable `matrix` which have `4` rows and `2` columns.We need to find transpose of the `matrix`. For that, we used list comprehension.\n",
    "\n",
    "**Note:** The nested loops in list comprehension don’t work like normal nested loops. In the above program, `for i in range(2)` is executed before `row[i] for row in matrix`. Hence at first, a value is assigned to `i` then item directed by `row[i]` is appended in the `transpose` variable.\n",
    "\n",
    "### Key Points to Remember\n",
    "* List comprehension is an elegant way to define and create lists based on existing lists.\n",
    "* List comprehension is generally more compact and faster than normal functions and loops for creating list.\n",
    "* However, we should avoid writing very long list comprehensions in one line to ensure that code is user-friendly.\n",
    "* Remember, every list comprehension can be rewritten in for loop, but every for loop can’t be rewritten in the form of list comprehension.\n",
    "\n",
    "---\n",
    "\n",
    "# Python Anonymous/Lambda Function\n",
    "Python allows you to create anonymous function i.e function having no names using a facility called `lambda` function.\n",
    "\n",
    "1. `lambda` functions are small functions usually not more than a line. \n",
    "2. It can have any number of arguments just like a normal function. \n",
    "3. The body of `lambda` functions is very small and consists of only one expression. \n",
    "4. The result of the expression is the value when the `lambda` is applied to an argument. \n",
    "5. There is no need for any return statement in `lambda` function.\n",
    "6. While normal functions are defined using the `def` keyword, in Python anonymous functions are defined using the `lambda` keyword.\n",
    "\n",
    "### Syntax of Lambda Function in python\n",
    "> `lambda arguments: expression`\n",
    "\n",
    "Lambda functions can have any number of arguments but only one expression. The expression is evaluated and returned. Lambda functions can be used wherever function objects are required.\n",
    "\n",
    "Here is an example of lambda function that doubles the input value."
   ]
  },
  {
   "cell_type": "code",
   "execution_count": 0,
   "metadata": {
    "colab": {},
    "colab_type": "code",
    "id": "UBiXr8zhList"
   },
   "outputs": [],
   "source": [
    "# Program to show the use of lambda functions\n",
    "\n",
    "double = lambda x: x * 2\n",
    "\n",
    "print(double(5)) ## 10"
   ]
  },
  {
   "cell_type": "markdown",
   "metadata": {
    "colab_type": "text",
    "id": "ZepG57SMLqpu"
   },
   "source": [
    "In the above program, `lambda x: x * 2` is the lambda function. Here `x` is the argument and `x * 2` is the expression that gets evaluated and returned.\n",
    "\n",
    "This function has no name. It returns a function object which is assigned to the identifier `double`. We can now call it as a normal function. The statement\n",
    "> `double = lambda x: x * 2`\n",
    "\n",
    "is nearly the same as\n",
    "\n",
    "```\n",
    "def double(x):\n",
    "   return x * 2\n",
    "```\n",
    "\n",
    "\n",
    "---\n",
    "\n",
    "## Use of Lambda Function in python\n",
    "We use lambda functions when we require a nameless function for a short period of time.\n",
    "\n",
    "In Python, we generally use it as an argument to a higher-order function (a function that takes in other functions as arguments). Lambda functions are used along with built-in functions like `filter()`, `map()` etc.\n",
    "\n",
    "### Example use with `filter()`\n",
    "The `filter()` function in Python takes in a function and a list as arguments.\n",
    "\n",
    "The function is called with all the items in the list and a new list is returned which contains items for which the function evaluats to True.\n",
    "\n",
    "Here is an example use of `filter()` function to filter out only even numbers from a list.\n"
   ]
  },
  {
   "cell_type": "code",
   "execution_count": 0,
   "metadata": {
    "colab": {},
    "colab_type": "code",
    "id": "_qi3LWrbKNS5"
   },
   "outputs": [],
   "source": [
    "# Program to filter out only the even items from a list\n",
    "\n",
    "my_list = [1, 5, 4, 6, 8, 11, 3, 12]\n",
    "\n",
    "new_list = list(filter(lambda x: (x%2 == 0) , my_list))\n",
    "\n",
    "print(new_list) ## [4, 6, 8, 12]"
   ]
  },
  {
   "cell_type": "markdown",
   "metadata": {
    "colab_type": "text",
    "id": "otfRm2-5Ma-c"
   },
   "source": [
    "### Example use with `map()`\n",
    "The `map()` function in Python takes in a function and a list.\n",
    "\n",
    "The function is called with all the items in the list and a new list is returned which contains items returned by that function for each item.\n",
    "\n",
    "Here is an example use of `map()` function to double all the items in a list."
   ]
  },
  {
   "cell_type": "code",
   "execution_count": 0,
   "metadata": {
    "colab": {},
    "colab_type": "code",
    "id": "7paNxJePMhs3"
   },
   "outputs": [],
   "source": [
    "# Program to double each item in a list using map()\n",
    "\n",
    "my_list = [1, 5, 4, 6, 8, 11, 3, 12]\n",
    "\n",
    "new_list = list(map(lambda x: x * 2 , my_list))\n",
    "\n",
    "print(new_list) ## [2, 10, 8, 12, 16, 22, 6, 24]"
   ]
  },
  {
   "cell_type": "markdown",
   "metadata": {
    "colab_type": "text",
    "id": "S88Jl_uQMtkt"
   },
   "source": [
    "### Example use with `reduce()`\n",
    "\n",
    "The `reduce()` function in Python takes in a function and a list as argument. \n",
    "\n",
    "The function is called with a lambda function and a list and a new reduced result is returned. \n",
    "\n",
    "This performs a repetitive operation over the pairs of the list. This is a part of functools module."
   ]
  },
  {
   "cell_type": "code",
   "execution_count": 0,
   "metadata": {
    "colab": {},
    "colab_type": "code",
    "id": "D17El1I9M8hx"
   },
   "outputs": [],
   "source": [
    "# Program to get sum of a list using reduce()\n",
    " \n",
    "from functools import reduce\n",
    "li = [5, 8, 10, 20, 50, 100] \n",
    "sum = reduce((lambda x, y: x + y), li) \n",
    "print (sum) ## 193"
   ]
  },
  {
   "cell_type": "markdown",
   "metadata": {
    "colab_type": "text",
    "id": "GotxI4KdNOta"
   },
   "source": [
    "Here the results of previous two elements are added to the next element and this goes on till the end of the list like (((((5+8)+10)+20)+50)+100).\n",
    "\n",
    "---\n",
    "# Python Decorators\n",
    "\n",
    "A decorator takes in a function, adds some functionality and returns it. In this section, you will learn how you can create a decorator and why you should use it.\n",
    "\n",
    "Functions and methods are called **callable** as they can be called.\n",
    "\n",
    "In fact, any object which implements the special method `__call__()` is termed callable. So, in the most basic sense, a decorator is a callable that returns a callable.\n",
    "\n",
    "Basically, a decorator takes in a function, adds some functionality and returns it.\n",
    "\n"
   ]
  },
  {
   "cell_type": "code",
   "execution_count": 0,
   "metadata": {
    "colab": {
     "base_uri": "https://localhost:8080/",
     "height": 68
    },
    "colab_type": "code",
    "id": "SlaDMxdEboli",
    "outputId": "0a996012-a561-4b9f-a600-365e16e2214f"
   },
   "outputs": [
    {
     "name": "stdout",
     "output_type": "stream",
     "text": [
      "I am ordinary\n",
      "I got decorated\n",
      "I am ordinary\n"
     ]
    }
   ],
   "source": [
    "def make_pretty(func):\n",
    "    def inner():\n",
    "        print(\"I got decorated\")\n",
    "        func()\n",
    "    return inner\n",
    "\n",
    "def ordinary():\n",
    "    print(\"I am ordinary\")\n",
    "\n",
    "ordinary() ## I am ordinary\n",
    "pretty = make_pretty(ordinary) ## I got decorated\n",
    "pretty() ## I am ordinary"
   ]
  },
  {
   "cell_type": "markdown",
   "metadata": {
    "colab_type": "text",
    "id": "1ml1qDyTcHLd"
   },
   "source": [
    "In the example shown above, `make_pretty()` is a decorator. In the assignment step\n",
    "> `pretty = make_pretty(ordinary)`\n",
    "\n",
    "The function `ordinary()` got decorated and the returned function was given the name `pretty`.\n",
    "\n",
    "We can see that the decorator function added some new functionality to the original function. This is similar to packing a gift. The decorator acts as a wrapper. The nature of the object that got decorated (actual gift inside) does not alter. But now, it looks pretty (since it got decorated).\n",
    "\n",
    "Generally, we decorate a function and reassign it as,\n",
    ">`ordinary = make_pretty(ordinary)`\n",
    "\n",
    "This is a common construct and for this reason, Python has a syntax to simplify this.\n",
    "\n",
    "We can use the **`@`** symbol along with the name of the decorator function and place it above the definition of the function to be decorated. For example,\n",
    "\n",
    "```\n",
    "@make_pretty\n",
    "def ordinary():\n",
    "    print(\"I am ordinary\")\n",
    "```\n",
    "\n",
    "is equivalent to\n",
    "\n",
    "```\n",
    "def ordinary():\n",
    "    print(\"I am ordinary\")\n",
    "ordinary = make_pretty(ordinary)\n",
    "```\n",
    "\n",
    "This is just a syntactic sugar to implement decorators.\n",
    "\n",
    "\n",
    "---\n",
    "\n",
    "\n",
    "## Decorating Functions with Parameters\n",
    "The above decorator was simple and it only worked with functions that did not have any parameters. What if we had functions that took in parameters like below?"
   ]
  },
  {
   "cell_type": "code",
   "execution_count": 0,
   "metadata": {
    "colab": {},
    "colab_type": "code",
    "id": "7GRC_6f4bsyx"
   },
   "outputs": [],
   "source": [
    "def divide(a, b):\n",
    "    return a/b\n",
    "\n",
    "divide(2,5) ## 0.4\n",
    "divide(2,0) ## Error"
   ]
  },
  {
   "cell_type": "markdown",
   "metadata": {
    "colab_type": "text",
    "id": "x2WO3RZ8db0-"
   },
   "source": [
    "The `divide()` function has two parameters, a and b. It throws error if we pass in b as 0.\n",
    "Now let's make a decorator to check for this case that will cause the error."
   ]
  },
  {
   "cell_type": "code",
   "execution_count": 0,
   "metadata": {
    "colab": {},
    "colab_type": "code",
    "id": "xhF8oM_LdwJr"
   },
   "outputs": [],
   "source": [
    "def smart_divide(func):\n",
    "   def inner(a,b):\n",
    "      print(\"I am going to divide\",a,\"and\",b)\n",
    "      if b == 0:\n",
    "         print(\"Whoops! cannot divide\")\n",
    "         return\n",
    "\n",
    "      return func(a,b)\n",
    "   return inner\n",
    "\n",
    "@smart_divide\n",
    "def divide(a,b):\n",
    "    return a/b\n",
    "\n",
    "divide(2,5) ## I am going to divide 2 and 5  0.4\n",
    "divide(2,0) ## I am going to divide 2 and 0  Whoops! cannot divide"
   ]
  },
  {
   "cell_type": "markdown",
   "metadata": {
    "colab_type": "text",
    "id": "eMYWvuBWeQT6"
   },
   "source": [
    "In this manner we can decorate functions that take parameters.\n",
    "\n",
    "A keen observer will notice that parameters of the nested `inner()` function inside the decorator is same as the parameters of functions it decorates. Taking this into account, now we can make general decorators that work with any number of parameter.\n",
    "\n",
    "In Python, this magic is done as `function(*args, \\**kwargs)`. In this way, args will be the tuple of positional arguments and `kwargs` will be the dictionary of keyword arguments. An example of such decorator will be.\n",
    "\n",
    "```\n",
    "def works_for_all(func):\n",
    "    def inner(*args, **kwargs):\n",
    "        print(\"I can decorate any function\")\n",
    "        return func(*args, **kwargs)\n",
    "    return inner\n",
    "    ```\n",
    "    \n",
    "\n",
    "---\n",
    "\n",
    "## Chaining Decorators in Python\n",
    "Multiple decorators can be chained in Python.\n",
    "\n",
    "This is to say, a function can be decorated multiple times with different (or same) decorators. We simply place the decorators above the desired function."
   ]
  },
  {
   "cell_type": "code",
   "execution_count": 0,
   "metadata": {
    "colab": {
     "base_uri": "https://localhost:8080/",
     "height": 102
    },
    "colab_type": "code",
    "id": "GWGmHZCFerKo",
    "outputId": "fcdd8236-c1e9-43b2-ba79-2c01bca8d9ed"
   },
   "outputs": [
    {
     "name": "stdout",
     "output_type": "stream",
     "text": [
      "******************************\n",
      "%%%%%%%%%%%%%%%%%%%%%%%%%%%%%%\n",
      "Hello\n",
      "%%%%%%%%%%%%%%%%%%%%%%%%%%%%%%\n",
      "******************************\n"
     ]
    }
   ],
   "source": [
    "def star(func):\n",
    "    def inner(*args, **kwargs):\n",
    "        print(\"*\" * 30)\n",
    "        func(*args, **kwargs)\n",
    "        print(\"*\" * 30)\n",
    "    return inner\n",
    "\n",
    "def percent(func):\n",
    "    def inner(*args, **kwargs):\n",
    "        print(\"%\" * 30)\n",
    "        func(*args, **kwargs)\n",
    "        print(\"%\" * 30)\n",
    "    return inner\n",
    "\n",
    "@star\n",
    "@percent\n",
    "def printer(msg):\n",
    "    print(msg)\n",
    "printer(\"Hello\")"
   ]
  },
  {
   "cell_type": "markdown",
   "metadata": {
    "colab_type": "text",
    "id": "xdjz5s4jfNo4"
   },
   "source": [
    "The above syntax of,\n",
    "\n",
    "```\n",
    "@star\n",
    "@percent\n",
    "def printer(msg):\n",
    "    print(msg)\n",
    "    ```\n",
    "    is equivalent to\n",
    "\n",
    "```\n",
    "def printer(msg):\n",
    "    print(msg)\n",
    "printer = star(percent(printer))\n",
    "```\n",
    "\n",
    "---\n",
    "\n",
    "# Multiprocessing in Python\n",
    "## What is multiprocessing?\n",
    "\n",
    "Multiprocessing refers to the ability of a system to support more than one processor at the same time. Applications in a multiprocessing system are broken to smaller routines that run independently. The operating system allocates these threads to the processors improving performance of the system.\n",
    "\n",
    "## Why multiprocessing?\n",
    "\n",
    "Consider a computer system with a single processor. If it is assigned several processes at the same time, it will have to interrupt each task and switch briefly to another, to keep all of the processes going.\n",
    "This situation is just like a chef working in a kitchen alone. He has to do several tasks like baking, stirring, kneading dough, etc.\n",
    "\n",
    "In Python, the **`multiprocessing module`** includes a very simple and intuitive API for dividing work between multiple processes.\n",
    "Let us consider a simple example using multiprocessing module:"
   ]
  },
  {
   "cell_type": "code",
   "execution_count": 0,
   "metadata": {
    "colab": {
     "base_uri": "https://localhost:8080/",
     "height": 102
    },
    "colab_type": "code",
    "id": "h_PREO8CetFi",
    "outputId": "c87d2f4f-5734-4b3e-ae7d-5a313119f834"
   },
   "outputs": [
    {
     "name": "stdout",
     "output_type": "stream",
     "text": [
      "5 doubled to 10 by process id: 198\n",
      "10 doubled to 20 by process id: 199\n",
      "15 doubled to 30 by process id: 204\n",
      "20 doubled to 40 by process id: 207\n",
      "25 doubled to 50 by process id: 208\n"
     ]
    }
   ],
   "source": [
    "import os\n",
    " \n",
    "from multiprocessing import Process\n",
    " \n",
    "def doubler(number):\n",
    "    \"\"\"\n",
    "    A doubling function that can be used by a process\n",
    "    \"\"\"\n",
    "    result = number * 2\n",
    "    proc = os.getpid()\n",
    "    print('{0} doubled to {1} by process id: {2}'.format(\n",
    "        number, result, proc))\n",
    " \n",
    "if __name__ == '__main__':\n",
    "    numbers = [5, 10, 15, 20, 25]\n",
    "    procs = []\n",
    " \n",
    "    for index, number in enumerate(numbers):\n",
    "        proc = Process(target=doubler, args=(number,))\n",
    "        procs.append(proc)\n",
    "        proc.start()\n",
    " \n",
    "    for proc in procs:\n",
    "        proc.join()"
   ]
  },
  {
   "cell_type": "markdown",
   "metadata": {
    "colab_type": "text",
    "id": "mB5xEWXshoDc"
   },
   "source": [
    "In the above example, we import **Process** and create a `doubler()` function. Inside the function, we double the number that was passed in. We also use Python’s **os module** to get the current process’s ID (or pid). This will tell us which process is calling the function. Then in the block of code at the bottom, we create a series of Processes and start them. The very last loop just calls the `join()` method on each process, which tells Python to wait for the process to terminate. If you need to stop a process, you can call its `terminate()` method.\n",
    "\n",
    "Sometimes it’s nicer to have a more human readable name for your process though. Fortunately, the Process class does allow you to access the same of your process. Let’s take a look:"
   ]
  },
  {
   "cell_type": "code",
   "execution_count": 0,
   "metadata": {
    "colab": {
     "base_uri": "https://localhost:8080/",
     "height": 102
    },
    "colab_type": "code",
    "id": "RkvqnAuthkEg",
    "outputId": "4201be31-0f14-4674-d1ae-738df5b4cc19"
   },
   "outputs": [
    {
     "name": "stdout",
     "output_type": "stream",
     "text": [
      "5 doubled to 10 by: Process-21\n",
      "10 doubled to 20 by: Process-22\n",
      "15 doubled to 30 by: Process-23\n",
      "20 doubled to 40 by: Process-24\n",
      "25 doubled to 50 by: Process-25\n"
     ]
    }
   ],
   "source": [
    "import os\n",
    " \n",
    "from multiprocessing import Process, current_process\n",
    " \n",
    " \n",
    "def doubler(number):\n",
    "    \"\"\"\n",
    "    A doubling function that can be used by a process\n",
    "    \"\"\"\n",
    "    result = number * 2\n",
    "    proc_name = current_process().name\n",
    "    print('{0} doubled to {1} by: {2}'.format(\n",
    "        number, result, proc_name))\n",
    " \n",
    " \n",
    "if __name__ == '__main__':\n",
    "    numbers = [5, 10, 15, 20, 25]\n",
    "    procs = []\n",
    "    proc = Process(target=doubler, args=(5,))\n",
    " \n",
    "    for index, number in enumerate(numbers):\n",
    "        proc = Process(target=doubler, args=(number,))\n",
    "        procs.append(proc)\n",
    "        proc.start()\n",
    " \n",
    "    \n",
    "    for proc in procs:\n",
    "        proc.join()"
   ]
  },
  {
   "cell_type": "markdown",
   "metadata": {
    "colab_type": "text",
    "id": "q39yhv80h-3g"
   },
   "source": [
    "This time around, we import something extra: `current_process`. We use it to grab the name of the thread that is calling our function. The output demonstrates that the multiprocessing module assigns a number to each process as a part of its name by default\n",
    "\n",
    "---\n",
    "##Locks\n",
    "Multiprocessing module provides a `Lock` class to deal with the race conditions.All you need to do is import **Lock**, acquire it, do something and release it. Let’s take a look:\n",
    "\n"
   ]
  },
  {
   "cell_type": "code",
   "execution_count": 0,
   "metadata": {
    "colab": {
     "base_uri": "https://localhost:8080/",
     "height": 68
    },
    "colab_type": "code",
    "id": "2PVlDmhwjr2v",
    "outputId": "3a557a43-67c9-4022-863d-f77601ebea65"
   },
   "outputs": [
    {
     "name": "stdout",
     "output_type": "stream",
     "text": [
      "tango\n",
      "foxtrot\n",
      "10\n"
     ]
    }
   ],
   "source": [
    "from multiprocessing import Process, Lock\n",
    " \n",
    "lock = Lock()\n",
    " \n",
    " \n",
    "def printer(item):\n",
    "    \"\"\"\n",
    "    Prints out the item that was passed in\n",
    "    \"\"\"\n",
    "    lock.acquire()\n",
    "    try:\n",
    "        print(item)\n",
    "    finally:\n",
    "        lock.release()\n",
    " \n",
    "if __name__ == '__main__':\n",
    "    items = ['tango', 'foxtrot', 10]\n",
    "    for item in items:\n",
    "        p = Process(target=printer, args=(item,))\n",
    "        p.start()\n"
   ]
  },
  {
   "cell_type": "markdown",
   "metadata": {
    "colab_type": "text",
    "id": "jiuMZm1Njss_"
   },
   "source": [
    "Here we create a simple printing function that prints whatever you pass to it. To prevent the threads from interfering with each other, we use a `Lock` object. This code will loop over our list of three items and create a process for each of them. Each process will call our function and pass it one of the items from the iterable. Because we’re using locks, the next process in line will wait for the lock to release before it can continue.\n",
    "\n",
    "---\n",
    "\n",
    "## Logging\n",
    "Logging processes is a little different than logging threads. The reason for this is that Python’s logging packages doesn’t use process shared locks, so it’s possible for you to end up with messages from different processes getting mixed up. \n",
    "\n",
    "The simplest way to log is to send it all to stdout. We can do this by calling the log_to_stderr() function. Then we call the get_logger function to get access to a logger and set its logging level to INFO. Let’s try adding basic logging to the previous example. Here’s the code:\n",
    "\n"
   ]
  },
  {
   "cell_type": "code",
   "execution_count": 0,
   "metadata": {
    "colab": {
     "base_uri": "https://localhost:8080/",
     "height": 221
    },
    "colab_type": "code",
    "id": "3elI11rVkIi5",
    "outputId": "36b73e6a-06f5-4863-ac10-e4cdf39914b4"
   },
   "outputs": [
    {
     "name": "stderr",
     "output_type": "stream",
     "text": [
      "[INFO/Process-29] child process calling self.run()\n"
     ]
    },
    {
     "name": "stdout",
     "output_type": "stream",
     "text": [
      "tango\n"
     ]
    },
    {
     "name": "stderr",
     "output_type": "stream",
     "text": [
      "[INFO/Process-30] child process calling self.run()\n"
     ]
    },
    {
     "name": "stdout",
     "output_type": "stream",
     "text": [
      "foxtrot\n"
     ]
    },
    {
     "name": "stderr",
     "output_type": "stream",
     "text": [
      "[INFO/Process-29] process shutting down\n",
      "[INFO/Process-30] process shutting down\n",
      "[INFO/Process-30] process exiting with exitcode 0\n",
      "[INFO/Process-29] process exiting with exitcode 0\n",
      "[INFO/Process-31] child process calling self.run()\n"
     ]
    },
    {
     "name": "stdout",
     "output_type": "stream",
     "text": [
      "10\n"
     ]
    },
    {
     "name": "stderr",
     "output_type": "stream",
     "text": [
      "[INFO/Process-31] process shutting down\n",
      "[INFO/Process-31] process exiting with exitcode 0\n"
     ]
    }
   ],
   "source": [
    "import logging\n",
    "import multiprocessing\n",
    " \n",
    "from multiprocessing import Process, Lock\n",
    " \n",
    "lock = Lock()\n",
    " \n",
    "def printer(item):\n",
    "    \"\"\"\n",
    "    Prints out the item that was passed in\n",
    "    \"\"\"\n",
    "    lock.acquire()\n",
    "    try:\n",
    "        print(item)\n",
    "    finally:\n",
    "        lock.release()\n",
    " \n",
    "if __name__ == '__main__':\n",
    "    items = ['tango', 'foxtrot', 10]\n",
    "    multiprocessing.log_to_stderr()\n",
    "    logger = multiprocessing.get_logger()\n",
    "    logger.setLevel(logging.INFO)\n",
    "    for item in items:\n",
    "        p = Process(target=printer, args=(item,))\n",
    "        p.start()"
   ]
  },
  {
   "cell_type": "markdown",
   "metadata": {
    "colab_type": "text",
    "id": "AxFH1v1ukjMZ"
   },
   "source": [
    "## The Pool Class\n",
    "The Pool class is used to represent a pool of worker processes. It has methods which can allow you to offload tasks to the worker processes. Let’s look at a really simple example:\n",
    "\n"
   ]
  },
  {
   "cell_type": "code",
   "execution_count": 0,
   "metadata": {
    "colab": {
     "base_uri": "https://localhost:8080/",
     "height": 34
    },
    "colab_type": "code",
    "id": "SBej6JdtkMPi",
    "outputId": "70086794-bf02-4e21-b891-c63fac7580af"
   },
   "outputs": [
    {
     "name": "stdout",
     "output_type": "stream",
     "text": [
      "[10, 20, 40]\n"
     ]
    }
   ],
   "source": [
    "from multiprocessing import Pool\n",
    " \n",
    "def doubler(number):\n",
    "    return number * 2\n",
    " \n",
    "if __name__ == '__main__':\n",
    "    numbers = [5, 10, 20]\n",
    "    pool = Pool(processes=3)\n",
    "    print(pool.map(doubler, numbers)) ## [10, 20, 40]"
   ]
  },
  {
   "cell_type": "markdown",
   "metadata": {
    "colab_type": "text",
    "id": "3JToUT7qm_IT"
   },
   "source": [
    "Basically what’s happening here is that we create an instance of Pool and tell it to create three worker processes. Then we use the map method to map a function and an iterable to each process. Finally we print the result, which in this case is actually a list: [10, 20, 40].\n",
    "\n",
    "You can also get the result of your process in a pool by using the apply_async method:"
   ]
  },
  {
   "cell_type": "code",
   "execution_count": 0,
   "metadata": {
    "colab": {
     "base_uri": "https://localhost:8080/",
     "height": 34
    },
    "colab_type": "code",
    "id": "B2eWaWXlm2K5",
    "outputId": "e0c23a2b-b7c9-4a41-cfd5-8a43a5d2d650"
   },
   "outputs": [
    {
     "name": "stdout",
     "output_type": "stream",
     "text": [
      "50\n"
     ]
    }
   ],
   "source": [
    "from multiprocessing import Pool\n",
    " \n",
    "def doubler(number):\n",
    "    return number * 2\n",
    " \n",
    "if __name__ == '__main__':\n",
    "    pool = Pool(processes=3)\n",
    "    result = pool.apply_async(doubler, (25,))\n",
    "    print(result.get(timeout=1)) ## 50"
   ]
  },
  {
   "cell_type": "markdown",
   "metadata": {
    "colab_type": "text",
    "id": "dJRUSV5FnPNd"
   },
   "source": [
    "What this allows us to do is actually ask for the result of the process. That is what the get function is all about. It tries to get our result. You will note that we also have a timeout set just in case something happened to the function we were calling. We don’t want it to block indefinitely after all.\n",
    "\n",
    "---\n",
    "\n",
    "## Process Communication\n",
    "When it comes to communicating between processes, the multiprocessing modules has two primary methods: **Queues and Pipes**. The `Queue` implementation is actually both thread and process safe. Let’s take a look at a fairly simple example:"
   ]
  },
  {
   "cell_type": "code",
   "execution_count": 0,
   "metadata": {
    "colab": {
     "base_uri": "https://localhost:8080/",
     "height": 170
    },
    "colab_type": "code",
    "id": "Ksu5ZZkrnnCG",
    "outputId": "600854b3-2223-4eae-fe50-88a5531ea61b"
   },
   "outputs": [
    {
     "name": "stdout",
     "output_type": "stream",
     "text": [
      "Creating data and putting it on the queue\n",
      "data found to be processed: 5\n",
      "10\n",
      "data found to be processed: 10\n",
      "20\n",
      "data found to be processed: 13\n",
      "26\n",
      "data found to be processed: -1\n",
      "-2\n"
     ]
    }
   ],
   "source": [
    "from multiprocessing import Process, Queue\n",
    " \n",
    "sentinel = -1\n",
    " \n",
    "def creator(data, q):\n",
    "    \"\"\"\n",
    "    Creates data to be consumed and waits for the consumer\n",
    "    to finish processing\n",
    "    \"\"\"\n",
    "    print('Creating data and putting it on the queue')\n",
    "    for item in data:\n",
    " \n",
    "        q.put(item)\n",
    " \n",
    " \n",
    "def my_consumer(q):\n",
    "    \"\"\"\n",
    "    Consumes some data and works on it\n",
    " \n",
    "    In this case, all it does is double the input\n",
    "    \"\"\"\n",
    "    while True:\n",
    "        data = q.get()\n",
    "        print('data found to be processed: {}'.format(data))\n",
    "        processed = data * 2\n",
    "        print(processed)\n",
    " \n",
    "        if data is sentinel:\n",
    "            break\n",
    " \n",
    " \n",
    "if __name__ == '__main__':\n",
    "    q = Queue()\n",
    "    data = [5, 10, 13, -1]\n",
    "    process_one = Process(target=creator, args=(data, q))\n",
    "    process_two = Process(target=my_consumer, args=(q,))\n",
    "    process_one.start()\n",
    "    process_two.start()\n",
    " \n",
    "    q.close()\n",
    "    q.join_thread()\n",
    " \n",
    "    process_one.join()\n",
    "    process_two.join()"
   ]
  },
  {
   "cell_type": "markdown",
   "metadata": {
    "colab_type": "text",
    "id": "Ii-dVfNkoGvw"
   },
   "source": [
    "* Here we just need to import Queue and Process. Then we two functions, one to create data and add it to the queue and the second to consume the data and process it. \n",
    "* Adding data to the Queue is done by using the Queue’s **put()** method whereas getting data from the Queue is done via the **get()** method. \n",
    "* The last chunk of code just creates the Queue object and a couple of Processes and then runs them. \n",
    "* You will note that we call **join()** on our process objects rather than the Queue itself.\n",
    "\n"
   ]
  },
  {
   "cell_type": "markdown",
   "metadata": {
    "colab_type": "text",
    "id": "HCICStA0qG9E"
   },
   "source": [
    "# Assignments for learning further\n",
    "\n",
    "\n",
    "## List Comprehension Assignment\n",
    "\n",
    "Write a program ***`list_comprehension_assignment.py`*** with separate functions for:\n",
    "\n",
    "* printing a list of the full path to items in a directory\n",
    "\n",
    "* printing a list of the full path to items in a directory (excluding directories)\n",
    "\n",
    "* printing the list of all .jpg and .png files in a directory \n",
    "\n",
    "* printing the number of spaces in a string\n",
    "\n",
    "* removing vowels from a string and printing it\n",
    "\n",
    "* printing all of the words in a string that have less than 4 letters\n",
    "\n",
    "* printing length of each word in a sentence.\n",
    "\n",
    "---\n",
    "\n",
    "\n",
    "\n",
    "## Lambda Functions Assignment\n",
    "\n",
    "Imagine an accounting routine used in a book shop. It works on a list with sublists, which look like this: \n",
    "\n",
    "| Order Number\t| Book Title and Author |\tQuantity |\tPrice per Item\n",
    "|------|------|------|------|\n",
    "| 34587\t|Learning Python, Mark Lutz\t|4\t|40.95|\n",
    "|98762\t|Programming Python, Mark Lutz|\t5\t|56.80 |\n",
    "|77226\t|Head First Python, Paul Barry|\t3\t|32.95 |\n",
    "|88112\t|Einführung in Python3, Bernd Klein|\t3\t|24.99 |\n",
    "\n",
    "Write a Python program ***`lambda_function_assignment.py`*** with two functions,\n",
    "1.  first function returns a list with 2-tuples. Each tuple consists of the order number, the product of the price per items and the quantity. The product should be increased by 10, if the value of the order is smaller than 100.00. (Must use lambda functions)\n",
    "\n",
    "> Input list : \n",
    "\n",
    "> ```\n",
    "[ [\"34587\", \"Learning Python, Mark Lutz\", 4, 40.95], \n",
    "\t       [\"98762\", \"Programming Python, Mark Lutz\", 5, 56.80], \n",
    "           [\"77226\", \"Head First Python, Paul Barry\", 3,32.95],\n",
    "           [\"88112\", \"Einführung in Python3, Bernd Klein\", \t3, 24.99]]\n",
    "```\n",
    "\n",
    "\n",
    "> Expected Output: `[('34587', 163.8), ('98762', 284.0), ('77226', 108.85000000000001), ('88112', 84.97)]`\n",
    "\n",
    "2. second function returns a list of two tuples with (order number, total amount of order). The same bookshop, but this time we work on a different list. The sublists of our lists look like this: \n",
    "[ordernumber, (article number, quantity, price per unit), ... (article number, quantity, price per unit) ] \n",
    "\n",
    "> Input list: \n",
    "> ```\n",
    "[ [1, (\"5464\", 4, 9.99), (\"8274\",18,12.99), (\"9744\", 9, 44.95)], \n",
    "\t       [2, (\"5464\", 9, 9.99), (\"9744\", 9, 44.95)],\n",
    "\t       [3, (\"5464\", 9, 9.99), (\"88112\", 11, 24.99)],\n",
    "           [4, (\"8732\", 7, 11.99), (\"7733\",11,18.99), (\"88112\", 5, 39.95)] ]\n",
    "           ```\n",
    "> Expected Output:\n",
    "`[[1, 678.3299999999999], [2, 494.46000000000004], [3, 364.79999999999995], [4, 492.57]]`\n",
    "\n",
    "---\n",
    "\n",
    "## Decorators Assignment\n",
    "\n",
    "* Write a python program ***`decorator_assignment.py`*** having a decorator `\"logged\"` which wraps functions to log function arguments and the return value on each call.\n",
    "* Provide support for both positional and named arguments (your wrapper function should take both *args\n",
    "and **kwargs and print them both):\n",
    "\n",
    "\n",
    "```\n",
    ">>> @logged\n",
    "... def func(*args):\n",
    "... return 3 + len(args)\n",
    ">>> func(4, 4, 4)\n",
    "you called func(4, 4, 4)\n",
    "it returned 6\n",
    "6\n",
    "\n",
    "```\n",
    "\n",
    "\n",
    "---\n",
    "\n",
    "## Multiprocessing Assignment\n",
    "\n",
    "Write a python program ***`multiprocessing_assignment.py`*** which calculates the square of all numbers 1..10 using a separate Process to calculate each number. Use a shared memory Array to store the results. (Remember to lock the shared array before manipulating it.)"
   ]
  }
 ],
 "metadata": {
  "colab": {
   "name": "Advanced Topics in Python.ipynb",
   "provenance": [],
   "version": "0.3.2"
  },
  "kernelspec": {
   "display_name": "Python 3",
   "language": "python",
   "name": "python3"
  },
  "language_info": {
   "codemirror_mode": {
    "name": "ipython",
    "version": 3
   },
   "file_extension": ".py",
   "mimetype": "text/x-python",
   "name": "python",
   "nbconvert_exporter": "python",
   "pygments_lexer": "ipython3",
   "version": "3.7.4"
  }
 },
 "nbformat": 4,
 "nbformat_minor": 1
}
